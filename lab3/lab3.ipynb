{
 "cells": [
  {
   "cell_type": "markdown",
   "metadata": {},
   "source": [
    "# Лабораторная работа №3: практическое применение библиотеки символьных вычислений Python (SymPy)."
   ]
  },
  {
   "cell_type": "markdown",
   "metadata": {},
   "source": [
    "Выполнила студентка группы 9383 Лихашва Анастасия. Вариант 9."
   ]
  },
  {
   "cell_type": "markdown",
   "metadata": {},
   "source": [
    "## Цель работы:"
   ]
  },
  {
   "cell_type": "markdown",
   "metadata": {},
   "source": [
    "Практическое применение библиотеки символьных вычислений Python (SymPy) для решения задач дискретной математики и математической логики."
   ]
  },
  {
   "cell_type": "markdown",
   "metadata": {},
   "source": [
    "## Задачи лабораторной работы:"
   ]
  },
  {
   "cell_type": "markdown",
   "metadata": {},
   "source": [
    "1. Решить свой вариант диофантова уравнения.\n",
    "2. Имея открытую часть ключа RSA найти соответствующую закрытую часть и расшифровать кодированное слово.\n",
    "3. Записать в формате ДНФ и КНФ булеву функцию, заданную своим аналитическим выражением."
   ]
  },
  {
   "cell_type": "markdown",
   "metadata": {},
   "source": [
    "## Диофантово уравнение"
   ]
  },
  {
   "cell_type": "markdown",
   "metadata": {},
   "source": [
    "Вариант 49.\n",
    "\n",
    "Решить диофантово уравнение: \n",
    "### 1204x+ 1029y = 49"
   ]
  },
  {
   "cell_type": "code",
   "execution_count": 9,
   "metadata": {},
   "outputs": [
    {
     "data": {
      "text/plain": [
       "{(147*t_0 - 329, 385 - 172*t_0)}"
      ]
     },
     "execution_count": 9,
     "metadata": {},
     "output_type": "execute_result"
    }
   ],
   "source": [
    "import sympy\n",
    "from sympy.solvers.diophantine import diophantine\n",
    "from sympy import sympify, symbols\n",
    "\n",
    "x, y = symbols(\"x, y\", integer=True)\n",
    "diophantine(sympify(\"1204*x + 1029*y - 49\"))\n",
    "\n"
   ]
  },
  {
   "cell_type": "markdown",
   "metadata": {},
   "source": [
    "Решение: \n",
    "\n",
    "$x = 147*t_0 - 329$\n",
    "\n",
    "$y = 385 - 172*t_0$"
   ]
  },
  {
   "cell_type": "markdown",
   "metadata": {},
   "source": [
    "## RSA кодирование"
   ]
  },
  {
   "cell_type": "markdown",
   "metadata": {},
   "source": [
    "Вариант 49.\n",
    "\n",
    "Русское слово из четырех букв закодировано при помощи алгоритма RSA открытым ключом (e = 9,m = 33). Шифрованное сообщение имеет вид (3; 31; 20; 10). Подберите закрытую часть ключа и прочитайте исходное слово. Буквам русского алфавита соответсвуют числа в диапазоне от 2 до 32 (исключены буквы “e” и “ъ”)."
   ]
  },
  {
   "cell_type": "code",
   "execution_count": 14,
   "metadata": {},
   "outputs": [
    {
     "name": "stdout",
     "output_type": "stream",
     "text": [
      "Исходное слово:  ноги\n"
     ]
    }
   ],
   "source": [
    "from sympy.crypto.crypto import decipher_rsa, rsa_public_key, rsa_private_key\n",
    "\n",
    "e = 9\n",
    "m = 33\n",
    "\n",
    "key = rsa_private_key(m, e)\n",
    "\n",
    "code = [3, 31, 20, 10]\n",
    "\n",
    "alphabet = ['а', 'б', 'в', 'г', 'д', 'е', 'ж', 'з', 'и', 'й', 'к', 'л', 'м', 'н', 'о', 'п',\n",
    "      'р', 'с', 'т', 'у', 'ф', 'х', 'ц', 'ч', 'ш', 'щ', 'ы', 'ь', 'э', 'ю', 'я']\n",
    "\n",
    "word = []\n",
    "for i in code:\n",
    "    word.append(alphabet[decipher_rsa(i, key)-2])\n",
    "\n",
    "word = ''.join([str(i) for i in word])\n",
    "print('Исходное слово: ',word)"
   ]
  },
  {
   "cell_type": "markdown",
   "metadata": {},
   "source": [
    "## Преобразование булевой функции"
   ]
  },
  {
   "cell_type": "markdown",
   "metadata": {},
   "source": [
    "Вариант 69.\n",
    "\n",
    "f(x, y, z) = ((y ∨ z)(z xor x)) ∨ ((x xor z)(zy))"
   ]
  },
  {
   "cell_type": "code",
   "execution_count": 18,
   "metadata": {},
   "outputs": [
    {
     "name": "stdout",
     "output_type": "stream",
     "text": [
      "ДНФ:  (z & ~x) | (x & y & ~z)\n",
      "КНФ:  (x | z) & (y | z) & (~x | ~z)\n"
     ]
    }
   ],
   "source": [
    "func = sympify(\"((y|z)&(z ^ x))|((x ^ z)&(z&y))\", convert_xor=False)\n",
    "func_DNF = sympy.to_dnf(expr, True)\n",
    "func_CNF = sympy.to_cnf(expr, True)\n",
    "print(\"ДНФ: \", func_DNF)\n",
    "print(\"КНФ: \", func_CNF)"
   ]
  },
  {
   "cell_type": "markdown",
   "metadata": {},
   "source": [
    "## Выводы"
   ]
  },
  {
   "cell_type": "markdown",
   "metadata": {},
   "source": [
    "В данной лабораторной работе были практически изучены и применены библиотеки символьных вычислений Python (SymPy) для решения задач дискретной математики и математической логики."
   ]
  }
 ],
 "metadata": {
  "kernelspec": {
   "display_name": "Python 3",
   "language": "python",
   "name": "python3"
  },
  "language_info": {
   "codemirror_mode": {
    "name": "ipython",
    "version": 3
   },
   "file_extension": ".py",
   "mimetype": "text/x-python",
   "name": "python",
   "nbconvert_exporter": "python",
   "pygments_lexer": "ipython3",
   "version": "3.7.7"
  }
 },
 "nbformat": 4,
 "nbformat_minor": 4
}
